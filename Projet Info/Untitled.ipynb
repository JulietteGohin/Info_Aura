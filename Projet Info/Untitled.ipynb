{
 "cells": [
  {
   "cell_type": "code",
   "execution_count": 13,
   "id": "967c1334",
   "metadata": {},
   "outputs": [],
   "source": [
    "import requests\n",
    "# Define the remote file to retrieve\n",
    "remote_url = 'https://www.data.gouv.fr/fr/datasets/r/60b26826-9f1d-4e09-b71b-e97c986dae69'\n",
    "# Define the local filename to save data\n",
    "local_file = 'test.tar.gz'\n",
    "# Make http request for remote file data\n",
    "data = requests.get(remote_url)\n",
    "# Save file data to local copy\n",
    "with open(local_file, 'wb')as file:\n",
    "    \n",
    "    file.write(data.content)\n"
   ]
  },
  {
   "cell_type": "code",
   "execution_count": 14,
   "id": "137c03ee",
   "metadata": {},
   "outputs": [],
   "source": [
    "import os \n",
    "\n",
    "os.mkdir('test')"
   ]
  },
  {
   "cell_type": "code",
   "execution_count": 18,
   "id": "fe661e7a",
   "metadata": {},
   "outputs": [],
   "source": [
    "import zipfile\n",
    "\n",
    "# Open the tar.gz file\n",
    "with zipfile.ZipFile(\"test.zip\") as file:\n",
    "    # Extract all files\n",
    "    file.extractall('./test')\n",
    "\n",
    "\n"
   ]
  },
  {
   "cell_type": "code",
   "execution_count": 20,
   "id": "926ab196",
   "metadata": {},
   "outputs": [],
   "source": [
    "\n",
    "file.close()"
   ]
  },
  {
   "cell_type": "code",
   "execution_count": 22,
   "id": "5bd5539f",
   "metadata": {},
   "outputs": [],
   "source": [
    "os.remove('test.zip')"
   ]
  },
  {
   "cell_type": "code",
   "execution_count": 23,
   "id": "c7518de4",
   "metadata": {},
   "outputs": [],
   "source": [
    "os.mkdir('test2')\n",
    "os.rename('test/gpkg/bdnb.gpkg', 'test2/bdnb.gpkg')"
   ]
  },
  {
   "cell_type": "code",
   "execution_count": 24,
   "id": "09b47f14",
   "metadata": {},
   "outputs": [],
   "source": [
    "import shutil\n",
    "shutil.rmtree('test')"
   ]
  },
  {
   "cell_type": "code",
   "execution_count": 26,
   "id": "90005c6a",
   "metadata": {},
   "outputs": [
    {
     "data": {
      "text/plain": [
       "Index(['cle_interop_adr', 'code_departement_insee', 'numero', 'rep',\n",
       "       'nom_voie', 'type_voie', 'code_commune_insee', 'code_postal',\n",
       "       'libelle_commune', 'source', 'nb_bat_grp', 'nb_bat_grp_hors_dep',\n",
       "       'geometry'],\n",
       "      dtype='object')"
      ]
     },
     "execution_count": 26,
     "metadata": {},
     "output_type": "execute_result"
    }
   ],
   "source": [
    "import geopandas as gpd\n",
    "\n",
    "filename = \"test2/bdnb.gpkg\"\n",
    "\n",
    "# Open the GPKG file using geopandas\n",
    "data = gpd.read_file(filename)\n",
    "#data.columns\n",
    "# Print the data to verify that it has been loaded\n",
    "data.columns"
   ]
  },
  {
   "cell_type": "code",
   "execution_count": null,
   "id": "e43dffb1",
   "metadata": {},
   "outputs": [],
   "source": []
  }
 ],
 "metadata": {
  "kernelspec": {
   "display_name": "Python 3 (ipykernel)",
   "language": "python",
   "name": "python3"
  },
  "language_info": {
   "codemirror_mode": {
    "name": "ipython",
    "version": 3
   },
   "file_extension": ".py",
   "mimetype": "text/x-python",
   "name": "python",
   "nbconvert_exporter": "python",
   "pygments_lexer": "ipython3",
   "version": "3.9.12"
  }
 },
 "nbformat": 4,
 "nbformat_minor": 5
}
