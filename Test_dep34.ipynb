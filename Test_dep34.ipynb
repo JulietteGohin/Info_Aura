{
 "cells": [
  {
   "cell_type": "code",
   "execution_count": 29,
   "id": "259ee0ed",
   "metadata": {},
   "outputs": [],
   "source": [
    "import geopandas as gpd\n",
    "import pandas as pd\n",
    "import fiona\n",
    "import matplotlib as plt"
   ]
  },
  {
   "cell_type": "code",
   "execution_count": 11,
   "id": "6d356e59",
   "metadata": {
    "scrolled": true
   },
   "outputs": [
    {
     "data": {
      "text/html": [
       "<div>\n",
       "<style scoped>\n",
       "    .dataframe tbody tr th:only-of-type {\n",
       "        vertical-align: middle;\n",
       "    }\n",
       "\n",
       "    .dataframe tbody tr th {\n",
       "        vertical-align: top;\n",
       "    }\n",
       "\n",
       "    .dataframe thead th {\n",
       "        text-align: right;\n",
       "    }\n",
       "</style>\n",
       "<table border=\"1\" class=\"dataframe\">\n",
       "  <thead>\n",
       "    <tr style=\"text-align: right;\">\n",
       "      <th></th>\n",
       "      <th>cle_interop_adr</th>\n",
       "      <th>code_departement_insee</th>\n",
       "      <th>numero</th>\n",
       "      <th>rep</th>\n",
       "      <th>nom_voie</th>\n",
       "      <th>type_voie</th>\n",
       "      <th>code_commune_insee</th>\n",
       "      <th>code_postal</th>\n",
       "      <th>libelle_commune</th>\n",
       "      <th>source</th>\n",
       "      <th>nb_bat_grp</th>\n",
       "      <th>nb_bat_grp_hors_dep</th>\n",
       "      <th>geometry</th>\n",
       "    </tr>\n",
       "  </thead>\n",
       "  <tbody>\n",
       "    <tr>\n",
       "      <th>0</th>\n",
       "      <td>183284640096306</td>\n",
       "      <td>34</td>\n",
       "      <td>20</td>\n",
       "      <td>NaN</td>\n",
       "      <td>des jardins d'alkinoos</td>\n",
       "      <td>rue</td>\n",
       "      <td>34172</td>\n",
       "      <td>NaN</td>\n",
       "      <td>Montpellier</td>\n",
       "      <td>Arcep</td>\n",
       "      <td>1</td>\n",
       "      <td>1</td>\n",
       "      <td>POINT (767634.030 6281632.930)</td>\n",
       "    </tr>\n",
       "    <tr>\n",
       "      <th>1</th>\n",
       "      <td>183284660096304</td>\n",
       "      <td>34</td>\n",
       "      <td>28</td>\n",
       "      <td>NaN</td>\n",
       "      <td>des jardins d'alkinoos</td>\n",
       "      <td>rue</td>\n",
       "      <td>34172</td>\n",
       "      <td>NaN</td>\n",
       "      <td>Montpellier</td>\n",
       "      <td>Arcep</td>\n",
       "      <td>1</td>\n",
       "      <td>1</td>\n",
       "      <td>POINT (767630.210 6281642.330)</td>\n",
       "    </tr>\n",
       "    <tr>\n",
       "      <th>2</th>\n",
       "      <td>183284680096302</td>\n",
       "      <td>34</td>\n",
       "      <td>42</td>\n",
       "      <td>NaN</td>\n",
       "      <td>des jardins d'alkinoos</td>\n",
       "      <td>rue</td>\n",
       "      <td>34172</td>\n",
       "      <td>NaN</td>\n",
       "      <td>Montpellier</td>\n",
       "      <td>Arcep</td>\n",
       "      <td>1</td>\n",
       "      <td>1</td>\n",
       "      <td>POINT (767621.090 6281657.350)</td>\n",
       "    </tr>\n",
       "    <tr>\n",
       "      <th>3</th>\n",
       "      <td>183284700096300</td>\n",
       "      <td>34</td>\n",
       "      <td>50</td>\n",
       "      <td>NaN</td>\n",
       "      <td>des jardins d'alkinoos</td>\n",
       "      <td>rue</td>\n",
       "      <td>34172</td>\n",
       "      <td>NaN</td>\n",
       "      <td>Montpellier</td>\n",
       "      <td>Arcep</td>\n",
       "      <td>1</td>\n",
       "      <td>1</td>\n",
       "      <td>POINT (767617.690 6281666.430)</td>\n",
       "    </tr>\n",
       "    <tr>\n",
       "      <th>4</th>\n",
       "      <td>183284720096298</td>\n",
       "      <td>34</td>\n",
       "      <td>58</td>\n",
       "      <td>NaN</td>\n",
       "      <td>des jardins d'alkinoos</td>\n",
       "      <td>rue</td>\n",
       "      <td>34172</td>\n",
       "      <td>NaN</td>\n",
       "      <td>Montpellier</td>\n",
       "      <td>Arcep</td>\n",
       "      <td>1</td>\n",
       "      <td>1</td>\n",
       "      <td>POINT (767614.360 6281675.840)</td>\n",
       "    </tr>\n",
       "  </tbody>\n",
       "</table>\n",
       "</div>"
      ],
      "text/plain": [
       "   cle_interop_adr code_departement_insee numero  rep                nom_voie  \\\n",
       "0  183284640096306                     34     20  NaN  des jardins d'alkinoos   \n",
       "1  183284660096304                     34     28  NaN  des jardins d'alkinoos   \n",
       "2  183284680096302                     34     42  NaN  des jardins d'alkinoos   \n",
       "3  183284700096300                     34     50  NaN  des jardins d'alkinoos   \n",
       "4  183284720096298                     34     58  NaN  des jardins d'alkinoos   \n",
       "\n",
       "  type_voie code_commune_insee code_postal libelle_commune source  nb_bat_grp  \\\n",
       "0       rue              34172         NaN     Montpellier  Arcep           1   \n",
       "1       rue              34172         NaN     Montpellier  Arcep           1   \n",
       "2       rue              34172         NaN     Montpellier  Arcep           1   \n",
       "3       rue              34172         NaN     Montpellier  Arcep           1   \n",
       "4       rue              34172         NaN     Montpellier  Arcep           1   \n",
       "\n",
       "   nb_bat_grp_hors_dep                        geometry  \n",
       "0                    1  POINT (767634.030 6281632.930)  \n",
       "1                    1  POINT (767630.210 6281642.330)  \n",
       "2                    1  POINT (767621.090 6281657.350)  \n",
       "3                    1  POINT (767617.690 6281666.430)  \n",
       "4                    1  POINT (767614.360 6281675.840)  "
      ]
     },
     "execution_count": 11,
     "metadata": {},
     "output_type": "execute_result"
    }
   ],
   "source": [
    "df = gpd.read_file(\"bdnb.gpkg\")\n",
    "df.head()\n",
    "# But, this only shows one of the subdatasets (or layers) of the file .gpkg..."
   ]
  },
  {
   "cell_type": "code",
   "execution_count": 14,
   "id": "b851899a",
   "metadata": {
    "scrolled": false
   },
   "outputs": [
    {
     "name": "stdout",
     "output_type": "stream",
     "text": [
      "Sub-datasets within the GeoDataFrame: Index(['cle_interop_adr', 'code_departement_insee', 'numero', 'rep',\n",
      "       'nom_voie', 'type_voie', 'code_commune_insee', 'code_postal',\n",
      "       'libelle_commune', 'source', 'nb_bat_grp', 'nb_bat_grp_hors_dep',\n",
      "       'geometry'],\n",
      "      dtype='object')\n"
     ]
    },
    {
     "data": {
      "text/plain": [
       "'\\n# Access a specific sub-dataset within the GeoDataFrame\\nsub_df = gdf[[\\'column1\\', \\'column2\\']]\\n\\n# Print the subset of data\\nprint(\"Subset of data:\", sub_df.head())\\n'"
      ]
     },
     "execution_count": 14,
     "metadata": {},
     "output_type": "execute_result"
    }
   ],
   "source": [
    "# Open the GeoPackage file as a geopandas GeoDataFrame\n",
    "gdf = gpd.read_file('bdnb.gpkg')\n",
    "\n",
    "# Print the list of all sub-datasets within the GeoDataFrame\n",
    "print(\"Sub-datasets within the GeoDataFrame:\", gdf.columns)"
   ]
  },
  {
   "cell_type": "code",
   "execution_count": 22,
   "id": "0fc6496b",
   "metadata": {
    "scrolled": true
   },
   "outputs": [
    {
     "name": "stdout",
     "output_type": "stream",
     "text": [
      "Layer names in the GeoPackage file: ['adresse_compile', 'rel_batiment_groupe_adresse', 'batiment_construction', 'batiment_groupe_compile', 'parcelle', 'rel_batiment_groupe_parcelle', 'proprietaire', 'rel_batiment_groupe_proprietaire', 'dpe_logement', 'rel_batiment_groupe_bdtopo_bat', 'rel_batiment_groupe_bdtopo_equ', 'rel_batiment_groupe_bdtopo_zoa', 'rel_batiment_groupe_bpe', 'rel_batiment_groupe_dpe_logement', 'rel_batiment_groupe_merimee', 'rel_batiment_groupe_qpv', 'rel_batiment_groupe_rnc']\n"
     ]
    }
   ],
   "source": [
    "# Open the GeoPackage file with fiona to get a list of all the layers\n",
    "gpkg = fiona.open('bdnb.gpkg', 'r')\n",
    "layer_names = fiona.listlayers('bdnb.gpkg')\n",
    "\n",
    "# Print the list of all layer names in the GeoPackage file\n",
    "print(\"Layer names in the file:\", layer_names)"
   ]
  },
  {
   "cell_type": "code",
   "execution_count": 23,
   "id": "fcee034d",
   "metadata": {
    "scrolled": true
   },
   "outputs": [
    {
     "data": {
      "text/html": [
       "<div>\n",
       "<style scoped>\n",
       "    .dataframe tbody tr th:only-of-type {\n",
       "        vertical-align: middle;\n",
       "    }\n",
       "\n",
       "    .dataframe tbody tr th {\n",
       "        vertical-align: top;\n",
       "    }\n",
       "\n",
       "    .dataframe thead th {\n",
       "        text-align: right;\n",
       "    }\n",
       "</style>\n",
       "<table border=\"1\" class=\"dataframe\">\n",
       "  <thead>\n",
       "    <tr style=\"text-align: right;\">\n",
       "      <th></th>\n",
       "      <th>batiment_construction_id</th>\n",
       "      <th>batiment_groupe_id</th>\n",
       "      <th>code_departement_insee</th>\n",
       "      <th>code_iris</th>\n",
       "      <th>code_commune_insee</th>\n",
       "      <th>s_geom_cstr</th>\n",
       "      <th>hauteur</th>\n",
       "      <th>altitude_sol</th>\n",
       "      <th>fictive_geom_cstr</th>\n",
       "      <th>geometry</th>\n",
       "    </tr>\n",
       "  </thead>\n",
       "  <tbody>\n",
       "    <tr>\n",
       "      <th>0</th>\n",
       "      <td>BATIMENT0000000027761378-1</td>\n",
       "      <td>34344000AN0027_d3d9dbb5b7a932d</td>\n",
       "      <td>34</td>\n",
       "      <td>NaN</td>\n",
       "      <td>34344</td>\n",
       "      <td>43.0</td>\n",
       "      <td>5.0</td>\n",
       "      <td>NaN</td>\n",
       "      <td>False</td>\n",
       "      <td>MULTIPOLYGON (((789383.034 6274342.661, 789382...</td>\n",
       "    </tr>\n",
       "    <tr>\n",
       "      <th>1</th>\n",
       "      <td>BATIMENT0000000044491755-1</td>\n",
       "      <td>uf341110066800_ae6cbc327e53f2e</td>\n",
       "      <td>34</td>\n",
       "      <td>341110000</td>\n",
       "      <td>34111</td>\n",
       "      <td>88.0</td>\n",
       "      <td>5.0</td>\n",
       "      <td>147.8</td>\n",
       "      <td>False</td>\n",
       "      <td>MULTIPOLYGON (((755586.100 6315711.800, 755586...</td>\n",
       "    </tr>\n",
       "    <tr>\n",
       "      <th>2</th>\n",
       "      <td>BATIMENT0000000044598079-1</td>\n",
       "      <td>34154000BK0150_646bda0981afcac</td>\n",
       "      <td>34</td>\n",
       "      <td>341540106</td>\n",
       "      <td>34154</td>\n",
       "      <td>25.0</td>\n",
       "      <td>2.4</td>\n",
       "      <td>0.9</td>\n",
       "      <td>False</td>\n",
       "      <td>MULTIPOLYGON (((782341.700 6277260.600, 782337...</td>\n",
       "    </tr>\n",
       "    <tr>\n",
       "      <th>3</th>\n",
       "      <td>BATIMENT0000000044729356-1</td>\n",
       "      <td>341670000B0210_b492fcc25163c36</td>\n",
       "      <td>34</td>\n",
       "      <td>341670000</td>\n",
       "      <td>34167</td>\n",
       "      <td>21.0</td>\n",
       "      <td>6.0</td>\n",
       "      <td>6.0</td>\n",
       "      <td>False</td>\n",
       "      <td>MULTIPOLYGON (((701346.700 6242217.400, 701348...</td>\n",
       "    </tr>\n",
       "    <tr>\n",
       "      <th>4</th>\n",
       "      <td>BATIMENT0000000044490815-1</td>\n",
       "      <td>34174000AB0074_26733157640e037</td>\n",
       "      <td>34</td>\n",
       "      <td>341740000</td>\n",
       "      <td>34174</td>\n",
       "      <td>107.0</td>\n",
       "      <td>7.3</td>\n",
       "      <td>245.9</td>\n",
       "      <td>False</td>\n",
       "      <td>MULTIPOLYGON (((758683.500 6316920.800, 758685...</td>\n",
       "    </tr>\n",
       "  </tbody>\n",
       "</table>\n",
       "</div>"
      ],
      "text/plain": [
       "     batiment_construction_id              batiment_groupe_id  \\\n",
       "0  BATIMENT0000000027761378-1  34344000AN0027_d3d9dbb5b7a932d   \n",
       "1  BATIMENT0000000044491755-1  uf341110066800_ae6cbc327e53f2e   \n",
       "2  BATIMENT0000000044598079-1  34154000BK0150_646bda0981afcac   \n",
       "3  BATIMENT0000000044729356-1  341670000B0210_b492fcc25163c36   \n",
       "4  BATIMENT0000000044490815-1  34174000AB0074_26733157640e037   \n",
       "\n",
       "  code_departement_insee  code_iris code_commune_insee  s_geom_cstr  hauteur  \\\n",
       "0                     34        NaN              34344         43.0      5.0   \n",
       "1                     34  341110000              34111         88.0      5.0   \n",
       "2                     34  341540106              34154         25.0      2.4   \n",
       "3                     34  341670000              34167         21.0      6.0   \n",
       "4                     34  341740000              34174        107.0      7.3   \n",
       "\n",
       "   altitude_sol  fictive_geom_cstr  \\\n",
       "0           NaN              False   \n",
       "1         147.8              False   \n",
       "2           0.9              False   \n",
       "3           6.0              False   \n",
       "4         245.9              False   \n",
       "\n",
       "                                            geometry  \n",
       "0  MULTIPOLYGON (((789383.034 6274342.661, 789382...  \n",
       "1  MULTIPOLYGON (((755586.100 6315711.800, 755586...  \n",
       "2  MULTIPOLYGON (((782341.700 6277260.600, 782337...  \n",
       "3  MULTIPOLYGON (((701346.700 6242217.400, 701348...  \n",
       "4  MULTIPOLYGON (((758683.500 6316920.800, 758685...  "
      ]
     },
     "execution_count": 23,
     "metadata": {},
     "output_type": "execute_result"
    }
   ],
   "source": [
    "# Exemple\n",
    "gdf_construction = gpd.read_file('bdnb.gpkg', layer='batiment_construction')\n",
    "gdf_construction.head()"
   ]
  },
  {
   "cell_type": "code",
   "execution_count": null,
   "id": "c2e09890",
   "metadata": {},
   "outputs": [],
   "source": [
    "gdf_construction.hist('hauteur', bins=1)"
   ]
  },
  {
   "cell_type": "code",
   "execution_count": null,
   "id": "5edeba09",
   "metadata": {},
   "outputs": [],
   "source": [
    "# Deleting the uninteresting layers\n"
   ]
  }
 ],
 "metadata": {
  "kernelspec": {
   "display_name": "Python 3 (ipykernel)",
   "language": "python",
   "name": "python3"
  },
  "language_info": {
   "codemirror_mode": {
    "name": "ipython",
    "version": 3
   },
   "file_extension": ".py",
   "mimetype": "text/x-python",
   "name": "python",
   "nbconvert_exporter": "python",
   "pygments_lexer": "ipython3",
   "version": "3.9.12"
  }
 },
 "nbformat": 4,
 "nbformat_minor": 5
}
