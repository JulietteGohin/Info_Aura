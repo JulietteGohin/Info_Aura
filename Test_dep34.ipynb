{
 "cells": [
  {
   "cell_type": "code",
   "execution_count": 1,
   "id": "259ee0ed",
   "metadata": {},
   "outputs": [],
   "source": [
    "import geopandas as gpd\n",
    "import pandas as pd\n",
    "import fiona\n",
    "import matplotlib as plt\n",
    "import os"
   ]
  },
  {
   "cell_type": "code",
   "execution_count": 2,
   "id": "6d356e59",
   "metadata": {
    "scrolled": true
   },
   "outputs": [
    {
     "data": {
      "text/html": [
       "<div>\n",
       "<style scoped>\n",
       "    .dataframe tbody tr th:only-of-type {\n",
       "        vertical-align: middle;\n",
       "    }\n",
       "\n",
       "    .dataframe tbody tr th {\n",
       "        vertical-align: top;\n",
       "    }\n",
       "\n",
       "    .dataframe thead th {\n",
       "        text-align: right;\n",
       "    }\n",
       "</style>\n",
       "<table border=\"1\" class=\"dataframe\">\n",
       "  <thead>\n",
       "    <tr style=\"text-align: right;\">\n",
       "      <th></th>\n",
       "      <th>cle_interop_adr</th>\n",
       "      <th>code_departement_insee</th>\n",
       "      <th>numero</th>\n",
       "      <th>rep</th>\n",
       "      <th>nom_voie</th>\n",
       "      <th>type_voie</th>\n",
       "      <th>code_commune_insee</th>\n",
       "      <th>code_postal</th>\n",
       "      <th>libelle_commune</th>\n",
       "      <th>source</th>\n",
       "      <th>nb_bat_grp</th>\n",
       "      <th>nb_bat_grp_hors_dep</th>\n",
       "      <th>geometry</th>\n",
       "    </tr>\n",
       "  </thead>\n",
       "  <tbody>\n",
       "    <tr>\n",
       "      <th>0</th>\n",
       "      <td>183284640096306</td>\n",
       "      <td>34</td>\n",
       "      <td>20</td>\n",
       "      <td>NaN</td>\n",
       "      <td>des jardins d'alkinoos</td>\n",
       "      <td>rue</td>\n",
       "      <td>34172</td>\n",
       "      <td>NaN</td>\n",
       "      <td>Montpellier</td>\n",
       "      <td>Arcep</td>\n",
       "      <td>1</td>\n",
       "      <td>1</td>\n",
       "      <td>POINT (767634.030 6281632.930)</td>\n",
       "    </tr>\n",
       "    <tr>\n",
       "      <th>1</th>\n",
       "      <td>183284660096304</td>\n",
       "      <td>34</td>\n",
       "      <td>28</td>\n",
       "      <td>NaN</td>\n",
       "      <td>des jardins d'alkinoos</td>\n",
       "      <td>rue</td>\n",
       "      <td>34172</td>\n",
       "      <td>NaN</td>\n",
       "      <td>Montpellier</td>\n",
       "      <td>Arcep</td>\n",
       "      <td>1</td>\n",
       "      <td>1</td>\n",
       "      <td>POINT (767630.210 6281642.330)</td>\n",
       "    </tr>\n",
       "    <tr>\n",
       "      <th>2</th>\n",
       "      <td>183284680096302</td>\n",
       "      <td>34</td>\n",
       "      <td>42</td>\n",
       "      <td>NaN</td>\n",
       "      <td>des jardins d'alkinoos</td>\n",
       "      <td>rue</td>\n",
       "      <td>34172</td>\n",
       "      <td>NaN</td>\n",
       "      <td>Montpellier</td>\n",
       "      <td>Arcep</td>\n",
       "      <td>1</td>\n",
       "      <td>1</td>\n",
       "      <td>POINT (767621.090 6281657.350)</td>\n",
       "    </tr>\n",
       "    <tr>\n",
       "      <th>3</th>\n",
       "      <td>183284700096300</td>\n",
       "      <td>34</td>\n",
       "      <td>50</td>\n",
       "      <td>NaN</td>\n",
       "      <td>des jardins d'alkinoos</td>\n",
       "      <td>rue</td>\n",
       "      <td>34172</td>\n",
       "      <td>NaN</td>\n",
       "      <td>Montpellier</td>\n",
       "      <td>Arcep</td>\n",
       "      <td>1</td>\n",
       "      <td>1</td>\n",
       "      <td>POINT (767617.690 6281666.430)</td>\n",
       "    </tr>\n",
       "    <tr>\n",
       "      <th>4</th>\n",
       "      <td>183284720096298</td>\n",
       "      <td>34</td>\n",
       "      <td>58</td>\n",
       "      <td>NaN</td>\n",
       "      <td>des jardins d'alkinoos</td>\n",
       "      <td>rue</td>\n",
       "      <td>34172</td>\n",
       "      <td>NaN</td>\n",
       "      <td>Montpellier</td>\n",
       "      <td>Arcep</td>\n",
       "      <td>1</td>\n",
       "      <td>1</td>\n",
       "      <td>POINT (767614.360 6281675.840)</td>\n",
       "    </tr>\n",
       "  </tbody>\n",
       "</table>\n",
       "</div>"
      ],
      "text/plain": [
       "   cle_interop_adr code_departement_insee numero  rep                nom_voie  \\\n",
       "0  183284640096306                     34     20  NaN  des jardins d'alkinoos   \n",
       "1  183284660096304                     34     28  NaN  des jardins d'alkinoos   \n",
       "2  183284680096302                     34     42  NaN  des jardins d'alkinoos   \n",
       "3  183284700096300                     34     50  NaN  des jardins d'alkinoos   \n",
       "4  183284720096298                     34     58  NaN  des jardins d'alkinoos   \n",
       "\n",
       "  type_voie code_commune_insee code_postal libelle_commune source  nb_bat_grp  \\\n",
       "0       rue              34172         NaN     Montpellier  Arcep           1   \n",
       "1       rue              34172         NaN     Montpellier  Arcep           1   \n",
       "2       rue              34172         NaN     Montpellier  Arcep           1   \n",
       "3       rue              34172         NaN     Montpellier  Arcep           1   \n",
       "4       rue              34172         NaN     Montpellier  Arcep           1   \n",
       "\n",
       "   nb_bat_grp_hors_dep                        geometry  \n",
       "0                    1  POINT (767634.030 6281632.930)  \n",
       "1                    1  POINT (767630.210 6281642.330)  \n",
       "2                    1  POINT (767621.090 6281657.350)  \n",
       "3                    1  POINT (767617.690 6281666.430)  \n",
       "4                    1  POINT (767614.360 6281675.840)  "
      ]
     },
     "execution_count": 2,
     "metadata": {},
     "output_type": "execute_result"
    }
   ],
   "source": [
    "df = gpd.read_file('bdnb.gpkg')\n",
    "df.head()\n",
    "# But, this only shows one of the subdatasets (or layers) of the file .gpkg..."
   ]
  },
  {
   "cell_type": "code",
   "execution_count": 3,
   "id": "b851899a",
   "metadata": {
    "scrolled": false
   },
   "outputs": [
    {
     "name": "stdout",
     "output_type": "stream",
     "text": [
      "Sub-datasets within the GeoDataFrame: Index(['cle_interop_adr', 'code_departement_insee', 'numero', 'rep',\n",
      "       'nom_voie', 'type_voie', 'code_commune_insee', 'code_postal',\n",
      "       'libelle_commune', 'source', 'nb_bat_grp', 'nb_bat_grp_hors_dep',\n",
      "       'geometry'],\n",
      "      dtype='object')\n"
     ]
    }
   ],
   "source": [
    "# Open the GeoPackage file as a geopandas GeoDataFrame\n",
    "gdf = gpd.read_file('bdnb.gpkg')\n",
    "\n",
    "# Print the list of all sub-datasets within the GeoDataFrame\n",
    "print(\"Sub-datasets within the GeoDataFrame:\", gdf.columns)"
   ]
  },
  {
   "cell_type": "code",
   "execution_count": 4,
   "id": "0fc6496b",
   "metadata": {
    "scrolled": true
   },
   "outputs": [],
   "source": [
    "def layers(file):\n",
    "    \"\"\"\n",
    "    Showing all the layers of a .gpkg file\n",
    "    \n",
    "    ---\n",
    "    Parameters:\n",
    "    file : format .gpkg\n",
    "    \n",
    "    ---\n",
    "    Output: \n",
    "    list containing the name of all the layers\n",
    "    \"\"\"\n",
    "\n",
    "    # Open the GeoPackage file with fiona to get a list of all the layers\n",
    "    gpkg = fiona.open(file, 'r')\n",
    "    layer_names = fiona.listlayers(file)\n",
    "\n",
    "    return layer_names"
   ]
  },
  {
   "cell_type": "code",
   "execution_count": 5,
   "id": "ea5fa4c7",
   "metadata": {},
   "outputs": [
    {
     "data": {
      "text/plain": [
       "['adresse_compile',\n",
       " 'rel_batiment_groupe_adresse',\n",
       " 'batiment_construction',\n",
       " 'batiment_groupe_compile',\n",
       " 'parcelle',\n",
       " 'rel_batiment_groupe_parcelle',\n",
       " 'proprietaire',\n",
       " 'rel_batiment_groupe_proprietaire',\n",
       " 'dpe_logement',\n",
       " 'rel_batiment_groupe_bdtopo_bat',\n",
       " 'rel_batiment_groupe_bdtopo_equ',\n",
       " 'rel_batiment_groupe_bdtopo_zoa',\n",
       " 'rel_batiment_groupe_bpe',\n",
       " 'rel_batiment_groupe_dpe_logement',\n",
       " 'rel_batiment_groupe_merimee',\n",
       " 'rel_batiment_groupe_qpv',\n",
       " 'rel_batiment_groupe_rnc']"
      ]
     },
     "execution_count": 5,
     "metadata": {},
     "output_type": "execute_result"
    }
   ],
   "source": [
    "layers('bdnb.gpkg')"
   ]
  },
  {
   "cell_type": "code",
   "execution_count": 6,
   "id": "fcee034d",
   "metadata": {
    "scrolled": true
   },
   "outputs": [
    {
     "data": {
      "text/html": [
       "<div>\n",
       "<style scoped>\n",
       "    .dataframe tbody tr th:only-of-type {\n",
       "        vertical-align: middle;\n",
       "    }\n",
       "\n",
       "    .dataframe tbody tr th {\n",
       "        vertical-align: top;\n",
       "    }\n",
       "\n",
       "    .dataframe thead th {\n",
       "        text-align: right;\n",
       "    }\n",
       "</style>\n",
       "<table border=\"1\" class=\"dataframe\">\n",
       "  <thead>\n",
       "    <tr style=\"text-align: right;\">\n",
       "      <th></th>\n",
       "      <th>batiment_construction_id</th>\n",
       "      <th>batiment_groupe_id</th>\n",
       "      <th>code_departement_insee</th>\n",
       "      <th>code_iris</th>\n",
       "      <th>code_commune_insee</th>\n",
       "      <th>s_geom_cstr</th>\n",
       "      <th>hauteur</th>\n",
       "      <th>altitude_sol</th>\n",
       "      <th>fictive_geom_cstr</th>\n",
       "      <th>geometry</th>\n",
       "    </tr>\n",
       "  </thead>\n",
       "  <tbody>\n",
       "    <tr>\n",
       "      <th>0</th>\n",
       "      <td>BATIMENT0000000027761378-1</td>\n",
       "      <td>34344000AN0027_d3d9dbb5b7a932d</td>\n",
       "      <td>34</td>\n",
       "      <td>NaN</td>\n",
       "      <td>34344</td>\n",
       "      <td>43.0</td>\n",
       "      <td>5.0</td>\n",
       "      <td>NaN</td>\n",
       "      <td>False</td>\n",
       "      <td>MULTIPOLYGON (((789383.034 6274342.661, 789382...</td>\n",
       "    </tr>\n",
       "    <tr>\n",
       "      <th>1</th>\n",
       "      <td>BATIMENT0000000044491755-1</td>\n",
       "      <td>uf341110066800_ae6cbc327e53f2e</td>\n",
       "      <td>34</td>\n",
       "      <td>341110000</td>\n",
       "      <td>34111</td>\n",
       "      <td>88.0</td>\n",
       "      <td>5.0</td>\n",
       "      <td>147.8</td>\n",
       "      <td>False</td>\n",
       "      <td>MULTIPOLYGON (((755586.100 6315711.800, 755586...</td>\n",
       "    </tr>\n",
       "    <tr>\n",
       "      <th>2</th>\n",
       "      <td>BATIMENT0000000044598079-1</td>\n",
       "      <td>34154000BK0150_646bda0981afcac</td>\n",
       "      <td>34</td>\n",
       "      <td>341540106</td>\n",
       "      <td>34154</td>\n",
       "      <td>25.0</td>\n",
       "      <td>2.4</td>\n",
       "      <td>0.9</td>\n",
       "      <td>False</td>\n",
       "      <td>MULTIPOLYGON (((782341.700 6277260.600, 782337...</td>\n",
       "    </tr>\n",
       "    <tr>\n",
       "      <th>3</th>\n",
       "      <td>BATIMENT0000000044729356-1</td>\n",
       "      <td>341670000B0210_b492fcc25163c36</td>\n",
       "      <td>34</td>\n",
       "      <td>341670000</td>\n",
       "      <td>34167</td>\n",
       "      <td>21.0</td>\n",
       "      <td>6.0</td>\n",
       "      <td>6.0</td>\n",
       "      <td>False</td>\n",
       "      <td>MULTIPOLYGON (((701346.700 6242217.400, 701348...</td>\n",
       "    </tr>\n",
       "    <tr>\n",
       "      <th>4</th>\n",
       "      <td>BATIMENT0000000044490815-1</td>\n",
       "      <td>34174000AB0074_26733157640e037</td>\n",
       "      <td>34</td>\n",
       "      <td>341740000</td>\n",
       "      <td>34174</td>\n",
       "      <td>107.0</td>\n",
       "      <td>7.3</td>\n",
       "      <td>245.9</td>\n",
       "      <td>False</td>\n",
       "      <td>MULTIPOLYGON (((758683.500 6316920.800, 758685...</td>\n",
       "    </tr>\n",
       "  </tbody>\n",
       "</table>\n",
       "</div>"
      ],
      "text/plain": [
       "     batiment_construction_id              batiment_groupe_id  \\\n",
       "0  BATIMENT0000000027761378-1  34344000AN0027_d3d9dbb5b7a932d   \n",
       "1  BATIMENT0000000044491755-1  uf341110066800_ae6cbc327e53f2e   \n",
       "2  BATIMENT0000000044598079-1  34154000BK0150_646bda0981afcac   \n",
       "3  BATIMENT0000000044729356-1  341670000B0210_b492fcc25163c36   \n",
       "4  BATIMENT0000000044490815-1  34174000AB0074_26733157640e037   \n",
       "\n",
       "  code_departement_insee  code_iris code_commune_insee  s_geom_cstr  hauteur  \\\n",
       "0                     34        NaN              34344         43.0      5.0   \n",
       "1                     34  341110000              34111         88.0      5.0   \n",
       "2                     34  341540106              34154         25.0      2.4   \n",
       "3                     34  341670000              34167         21.0      6.0   \n",
       "4                     34  341740000              34174        107.0      7.3   \n",
       "\n",
       "   altitude_sol  fictive_geom_cstr  \\\n",
       "0           NaN              False   \n",
       "1         147.8              False   \n",
       "2           0.9              False   \n",
       "3           6.0              False   \n",
       "4         245.9              False   \n",
       "\n",
       "                                            geometry  \n",
       "0  MULTIPOLYGON (((789383.034 6274342.661, 789382...  \n",
       "1  MULTIPOLYGON (((755586.100 6315711.800, 755586...  \n",
       "2  MULTIPOLYGON (((782341.700 6277260.600, 782337...  \n",
       "3  MULTIPOLYGON (((701346.700 6242217.400, 701348...  \n",
       "4  MULTIPOLYGON (((758683.500 6316920.800, 758685...  "
      ]
     },
     "execution_count": 6,
     "metadata": {},
     "output_type": "execute_result"
    }
   ],
   "source": [
    "# Exemple\n",
    "gdf_construction = gpd.read_file('bdnb.gpkg', layer='batiment_construction')\n",
    "gdf_construction.head()"
   ]
  },
  {
   "cell_type": "code",
   "execution_count": 7,
   "id": "c2e09890",
   "metadata": {},
   "outputs": [
    {
     "data": {
      "image/png": "[encoded data removed]",
      "text/plain": [
       "<Figure size 640x480 with 1 Axes>"
      ]
     },
     "metadata": {},
     "output_type": "display_data"
    }
   ],
   "source": [
    "def plot_height(file):\n",
    "    construction = gpd.read_file(file, layer='batiment_construction')\n",
    "    construction.hist('hauteur', bins=10)\n",
    "\n",
    "plot_height('bdnb.gpkg')"
   ]
  },
  {
   "cell_type": "code",
   "execution_count": 18,
   "id": "2ce29498",
   "metadata": {},
   "outputs": [
    {
     "name": "stdout",
     "output_type": "stream",
     "text": [
      "dict_keys(['34001', '34002', '34003', '34004', '34005', '34006', '34007', '34008', '34009', '34010', '34011', '34012', '34013', '34014', '34015', '34016', '34017', '34018', '34019', '34020', '34021', '34022', '34023', '34024', '34025', '34026', '34027', '34028', '34029', '34030', '34031', '34032', '34033', '34034', '34035', '34036', '34037', '34038', '34039', '34040', '34041', '34042', '34043', '34044', '34045', '34046', '34047', '34048', '34049', '34050', '34051', '34052', '34053', '34054', '34055', '34056', '34057', '34058', '34059', '34060', '34061', '34062', '34063', '34064', '34065', '34066', '34067', '34068', '34069', '34070', '34071', '34072', '34073', '34074', '34075', '34076', '34077', '34078', '34079', '34080', '34081', '34082', '34083', '34084', '34085', '34086', '34087', '34088', '34089', '34090', '34091', '34092', '34093', '34094', '34095', '34096', '34097', '34098', '34099', '34100', '34101', '34102', '34103', '34104', '34105', '34106', '34107', '34108', '34109', '34110', '34111', '34112', '34113', '34114', '34115', '34116', '34117', '34118', '34119', '34120', '34121', '34122', '34123', '34124', '34125', '34126', '34127', '34128', '34129', '34130', '34131', '34132', '34133', '34134', '34135', '34136', '34137', '34138', '34139', '34140', '34141', '34142', '34143', '34144', '34145', '34146', '34147', '34148', '34149', '34150', '34151', '34152', '34153', '34154', '34155', '34156', '34157', '34158', '34159', '34160', '34161', '34162', '34163', '34164', '34165', '34166', '34167', '34168', '34169', '34170', '34171', '34172', '34173', '34174', '34175', '34176', '34177', '34178', '34179', '34180', '34181', '34182', '34183', '34184', '34185', '34186', '34187', '34188', '34189', '34190', '34191', '34192', '34193', '34194', '34195', '34196', '34197', '34198', '34199', '34200', '34201', '34202', '34203', '34204', '34205', '34206', '34207', '34208', '34209', '34210', '34211', '34212', '34213', '34214', '34215', '34216', '34217', '34218', '34219', '34220', '34221', '34222', '34223', '34224', '34225', '34226', '34227', '34228', '34229', '34230', '34231', '34232', '34233', '34234', '34235', '34236', '34237', '34238', '34239', '34240', '34241', '34242', '34243', '34244', '34245', '34246', '34247', '34248', '34249', '34250', '34251', '34252', '34253', '34254', '34255', '34256', '34257', '34258', '34259', '34260', '34261', '34262', '34263', '34264', '34265', '34266', '34267', '34268', '34269', '34270', '34271', '34272', '34273', '34274', '34276', '34277', '34278', '34279', '34280', '34281', '34282', '34283', '34284', '34285', '34286', '34287', '34288', '34289', '34290', '34291', '34292', '34293', '34294', '34295', '34296', '34297', '34298', '34299', '34300', '34301', '34302', '34303', '34304', '34305', '34306', '34307', '34308', '34309', '34310', '34311', '34312', '34313', '34314', '34315', '34316', '34317', '34318', '34319', '34320', '34321', '34322', '34323', '34324', '34325', '34326', '34327', '34328', '34329', '34331', '34332', '34333', '34334', '34335', '34336', '34337', '34338', '34339', '34340', '34341', '34342', '34343', '34344'])\n"
     ]
    },
    {
     "ename": "AttributeError",
     "evalue": "module 'matplotlib' has no attribute 'title'",
     "output_type": "error",
     "traceback": [
      "\u001b[1;31m---------------------------------------------------------------------------\u001b[0m",
      "\u001b[1;31mAttributeError\u001b[0m                            Traceback (most recent call last)",
      "Input \u001b[1;32mIn [18]\u001b[0m, in \u001b[0;36m<cell line: 19>\u001b[1;34m()\u001b[0m\n\u001b[0;32m     16\u001b[0m     plt\u001b[38;5;241m.\u001b[39mtitle(\u001b[38;5;124mf\u001b[39m\u001b[38;5;124m\"\u001b[39m\u001b[38;5;124mHauteur des bâtiments dans la commune \u001b[39m\u001b[38;5;132;01m{\u001b[39;00mpostal_code\u001b[38;5;132;01m}\u001b[39;00m\u001b[38;5;124m\"\u001b[39m)\n\u001b[0;32m     17\u001b[0m     plt\u001b[38;5;241m.\u001b[39mplot()\n\u001b[1;32m---> 19\u001b[0m \u001b[43mplot_height_city\u001b[49m\u001b[43m(\u001b[49m\u001b[38;5;124;43m'\u001b[39;49m\u001b[38;5;124;43mbdnb.gpkg\u001b[39;49m\u001b[38;5;124;43m'\u001b[39;49m\u001b[43m,\u001b[49m\u001b[43m \u001b[49m\u001b[38;5;124;43m'\u001b[39;49m\u001b[38;5;124;43m34344\u001b[39;49m\u001b[38;5;124;43m'\u001b[39;49m\u001b[43m)\u001b[49m\n",
      "Input \u001b[1;32mIn [18]\u001b[0m, in \u001b[0;36mplot_height_city\u001b[1;34m(file, postal_code)\u001b[0m\n\u001b[0;32m     14\u001b[0m sub_gdf \u001b[38;5;241m=\u001b[39m gdf\u001b[38;5;241m.\u001b[39mget_group(postal_code) \n\u001b[0;32m     15\u001b[0m sub_gdf\u001b[38;5;241m.\u001b[39mhist(\u001b[38;5;124m'\u001b[39m\u001b[38;5;124mhauteur\u001b[39m\u001b[38;5;124m'\u001b[39m, bins\u001b[38;5;241m=\u001b[39m\u001b[38;5;241m10\u001b[39m, legend \u001b[38;5;241m=\u001b[39m \u001b[38;5;28;01mTrue\u001b[39;00m)\n\u001b[1;32m---> 16\u001b[0m \u001b[43mplt\u001b[49m\u001b[38;5;241;43m.\u001b[39;49m\u001b[43mtitle\u001b[49m(\u001b[38;5;124mf\u001b[39m\u001b[38;5;124m\"\u001b[39m\u001b[38;5;124mHauteur des bâtiments dans la commune \u001b[39m\u001b[38;5;132;01m{\u001b[39;00mpostal_code\u001b[38;5;132;01m}\u001b[39;00m\u001b[38;5;124m\"\u001b[39m)\n\u001b[0;32m     17\u001b[0m plt\u001b[38;5;241m.\u001b[39mplot()\n",
      "File \u001b[1;32mC:\\miniconda\\lib\\site-packages\\matplotlib\\_api\\__init__.py:222\u001b[0m, in \u001b[0;36mcaching_module_getattr.<locals>.__getattr__\u001b[1;34m(name)\u001b[0m\n\u001b[0;32m    220\u001b[0m \u001b[38;5;28;01mif\u001b[39;00m name \u001b[38;5;129;01min\u001b[39;00m props:\n\u001b[0;32m    221\u001b[0m     \u001b[38;5;28;01mreturn\u001b[39;00m props[name]\u001b[38;5;241m.\u001b[39m\u001b[38;5;21m__get__\u001b[39m(instance)\n\u001b[1;32m--> 222\u001b[0m \u001b[38;5;28;01mraise\u001b[39;00m \u001b[38;5;167;01mAttributeError\u001b[39;00m(\n\u001b[0;32m    223\u001b[0m     \u001b[38;5;124mf\u001b[39m\u001b[38;5;124m\"\u001b[39m\u001b[38;5;124mmodule \u001b[39m\u001b[38;5;132;01m{\u001b[39;00m\u001b[38;5;28mcls\u001b[39m\u001b[38;5;241m.\u001b[39m\u001b[38;5;18m__module__\u001b[39m\u001b[38;5;132;01m!r}\u001b[39;00m\u001b[38;5;124m has no attribute \u001b[39m\u001b[38;5;132;01m{\u001b[39;00mname\u001b[38;5;132;01m!r}\u001b[39;00m\u001b[38;5;124m\"\u001b[39m)\n",
      "\u001b[1;31mAttributeError\u001b[0m: module 'matplotlib' has no attribute 'title'"
     ]
    },
    {
     "data": {
      "image/png": "[encoded data removed]",
      "text/plain": [
       "<Figure size 640x480 with 1 Axes>"
      ]
     },
     "metadata": {},
     "output_type": "display_data"
    }
   ],
   "source": [
    "def plot_height_city(file, postal_code):\n",
    "    \"\"\"\n",
    "    Display the histogramme of the building's height in the chosen city (choice made by postal_code)\n",
    "    \n",
    "    ---\n",
    "    Parameters: \n",
    "    file : .gpkg, database\n",
    "    postal_code : str \n",
    "    \n",
    "    \"\"\"\n",
    "    gdf = gpd.read_file(file, layer='batiment_construction')\n",
    "    gdf = gdf.groupby(by='code_commune_insee')\n",
    "    print(gdf.groups.keys())\n",
    "    sub_gdf = gdf.get_group(postal_code) \n",
    "    sub_gdf.hist('hauteur', bins=10, legend = True)\n",
    "    plt.plot()\n",
    "    \n",
    "plot_height_city('bdnb.gpkg', '34344')\n",
    "    \n",
    "#En pratique, le code postal sera entré dans un formulaire sur l'interface web par l'utilisateur\n",
    "#Idée : menu déroulant on rentre le nom de la commune et le code postal associé apparait (--> dictionnaire .json voir Emile)"
   ]
  }
 ],
 "metadata": {
  "kernelspec": {
   "display_name": "Python 3 (ipykernel)",
   "language": "python",
   "name": "python3"
  },
  "language_info": {
   "codemirror_mode": {
    "name": "ipython",
    "version": 3
   },
   "file_extension": ".py",
   "mimetype": "text/x-python",
   "name": "python",
   "nbconvert_exporter": "python",
   "pygments_lexer": "ipython3",
   "version": "3.9.12"
  }
 },
 "nbformat": 4,
 "nbformat_minor": 5
}
